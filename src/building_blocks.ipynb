{
 "cells": [
  {
   "cell_type": "code",
   "execution_count": 3,
   "metadata": {},
   "outputs": [],
   "source": [
    "import torch\n",
    "from torchvision import models, transforms\n",
    "from torchvision.models import ResNet18_Weights\n",
    "from PIL import Image\n",
    "from scipy.spatial import distance\n",
    "\n",
    "from pymilvus import connections, db\n",
    "from pymilvus import CollectionSchema, FieldSchema, DataType\n",
    "\n",
    "import numpy as np "
   ]
  },
  {
   "cell_type": "markdown",
   "metadata": {},
   "source": [
    "### feature extractor"
   ]
  },
  {
   "cell_type": "code",
   "execution_count": 4,
   "metadata": {},
   "outputs": [],
   "source": [
    "\n",
    "class FeatureExtractor_CNN:\n",
    "    def __init__(self):\n",
    "        self.model = models.resnet18(weights=ResNet18_Weights.IMAGENET1K_V1)\n",
    "        self.model.eval()  # Set model to evaluation mode\n",
    "\n",
    "        self.transform = transforms.Compose([\n",
    "            transforms.Resize(256),\n",
    "            transforms.CenterCrop(224),\n",
    "            transforms.ToTensor(),\n",
    "            transforms.Normalize(mean=[0.485, 0.456, 0.406], std=[0.229, 0.224, 0.225])\n",
    "        ])\n",
    "\n",
    "    def preprocess_image(self, image_path):\n",
    "        image = Image.open(image_path).convert('RGB')\n",
    "        image_tensor = self.transform(image).unsqueeze(0)  # Add batch dimension\n",
    "        return image_tensor\n",
    "\n",
    "    def extract_features(self, image_tensor):\n",
    "        with torch.no_grad():\n",
    "            features = self.model(image_tensor).squeeze(0).cpu().numpy()\n",
    "        return features\n",
    "\n",
    "    def cosine_similarity(self, features1, features2):\n",
    "        similarity = 1 - distance.cosine(features1, features2)\n",
    "        return similarity\n",
    "\n",
    "    def cosine_similarity_images(self, image1_path, image2_path):\n",
    "        img1_tensor = self.preprocess_image(image1_path)\n",
    "        img2_tensor = self.preprocess_image(image2_path)\n",
    "        \n",
    "        features1 = self.extract_features(img1_tensor)\n",
    "        features2 = self.extract_features(img2_tensor)\n",
    "\n",
    "        return self.cosine_similarity(features1, features2)\n",
    "\n",
    "    def preprocess_extract_feature(self,img_path:str) -> np.ndarray:\n",
    "        img_tensor = self.preprocess_image(img_path)\n",
    "        features = self.extract_features(img_tensor)\n",
    "        return features\n",
    "\n",
    "\n"
   ]
  },
  {
   "cell_type": "code",
   "execution_count": 5,
   "metadata": {},
   "outputs": [
    {
     "name": "stdout",
     "output_type": "stream",
     "text": [
      "(1000,)\n"
     ]
    }
   ],
   "source": [
    "extractor = FeatureExtractor_CNN()\n",
    "image1_path = \"/caltech-101/101_ObjectCategories/buddha/image_0006.jpg\"\n",
    "image2_path = \"/caltech-101/101_ObjectCategories/ant/image_0020.jpg\"\n",
    "\n",
    "try:\n",
    "    # similarity_score = extractor.cosine_similarity_images(image1_path, image2_path)\n",
    "    # print(f\"Cosine similarity between images: {similarity_score}\")\n",
    "    embed_val = extractor.preprocess_extract_feature(image1_path)\n",
    "    print(embed_val.shape)\n",
    "\n",
    "except Exception as e:\n",
    "    print(f\"Error: {e}\")\n"
   ]
  },
  {
   "cell_type": "markdown",
   "metadata": {},
   "source": [
    "## UI"
   ]
  },
  {
   "cell_type": "code",
   "execution_count": null,
   "metadata": {},
   "outputs": [],
   "source": [
    "# import gradio as gr\n",
    "\n",
    "# def show_image_and_text(image, text):\n",
    "#   \"\"\"Displays the uploaded image and entered text.\"\"\"\n",
    "#   return image, text\n",
    "\n",
    "# # Define the interface with input and output components\n",
    "# interface = gr.Interface(\n",
    "#   fn=show_image_and_text,\n",
    "#   inputs=[\n",
    "#     gr.Image(type=\"pil\"),  # Allow uploading an image\n",
    "#     gr.Textbox(label=\"Enter text:\")  # Allow entering text\n",
    "#   ],\n",
    "#   outputs=[\n",
    "#     gr.Image(type=\"pil\", label=\"Uploaded image\"),  # Display the uploaded image\n",
    "#     gr.Textbox(label=\"Your text:\")  # Display the entered text\n",
    "#   ],\n",
    "#   title=\"HeyBagh\",\n",
    "#   description=\"Upload a photo of object that you wish to search\",\n",
    "# )\n",
    "\n",
    "# # Launch the interface\n",
    "# interface.launch()\n"
   ]
  },
  {
   "cell_type": "markdown",
   "metadata": {},
   "source": [
    "### Milvus Client"
   ]
  },
  {
   "cell_type": "code",
   "execution_count": 6,
   "metadata": {},
   "outputs": [],
   "source": [
    "\n",
    "\n",
    "conn = connections.connect(host=\"127.0.0.1\", port=19530)"
   ]
  },
  {
   "cell_type": "code",
   "execution_count": null,
   "metadata": {},
   "outputs": [],
   "source": [
    "# connections.disconnect(\"\")"
   ]
  },
  {
   "cell_type": "code",
   "execution_count": null,
   "metadata": {},
   "outputs": [],
   "source": [
    "# Create Database\n",
    "# database = db.create_database(\"heybagh_db\")\n"
   ]
  },
  {
   "cell_type": "code",
   "execution_count": 7,
   "metadata": {},
   "outputs": [
    {
     "data": {
      "text/plain": [
       "['default', 'heybagh_db']"
      ]
     },
     "execution_count": 7,
     "metadata": {},
     "output_type": "execute_result"
    }
   ],
   "source": [
    "\n",
    "db.list_database()"
   ]
  },
  {
   "cell_type": "code",
   "execution_count": 67,
   "metadata": {},
   "outputs": [],
   "source": [
    "# create fields schema  \n",
    "\n",
    "\n",
    "\n",
    "\"\"\"\n",
    "schema for vector-db\n",
    "{\n",
    "    img_id: INT\n",
    "    img_cls_name: STR\n",
    "    img_embeddings: VECTOR-FLOAT\n",
    "}\n",
    "\"\"\"\n",
    "\n",
    "img_id = FieldSchema(name='img_id', dtype=DataType.INT64, description='assigned Image ID', is_primary=True)\n",
    "\n",
    "img_cls_name = FieldSchema(name='img_cls_name', dtype=DataType.VARCHAR, description='Class-Name of the Image it belongs to', default_value='unknown', max_length=80)\n",
    "\n",
    "img_relative_path = FieldSchema(name='img_rel_path', dtype=DataType.VARCHAR, description='Relative path of the Image', default_value='unknown', max_length=1000)\n",
    "\n",
    "img_embeddings = FieldSchema(name='img_embeddings', dtype=DataType.FLOAT_VECTOR, dim=1000, description='Extracted embeddings of Image')"
   ]
  },
  {
   "cell_type": "code",
   "execution_count": 68,
   "metadata": {},
   "outputs": [],
   "source": [
    "# create colleection schema\n",
    "\n",
    "schema =  CollectionSchema(fields=[img_id, img_cls_name, img_relative_path, img_embeddings],\n",
    "                           description='heybagh image search',\n",
    "                           enable_dynamic_field=True,\n",
    "                           auto_id=True)"
   ]
  },
  {
   "cell_type": "code",
   "execution_count": 10,
   "metadata": {},
   "outputs": [
    {
     "ename": "NameError",
     "evalue": "name 'schema' is not defined",
     "output_type": "error",
     "traceback": [
      "\u001b[0;31m---------------------------------------------------------------------------\u001b[0m",
      "\u001b[0;31mNameError\u001b[0m                                 Traceback (most recent call last)",
      "Cell \u001b[0;32mIn [10], line 7\u001b[0m\n\u001b[1;32m      3\u001b[0m \u001b[38;5;66;03m# Create collection\u001b[39;00m\n\u001b[1;32m      4\u001b[0m collection_name \u001b[38;5;241m=\u001b[39m \u001b[38;5;124m'\u001b[39m\u001b[38;5;124mheybagh_caltech101_imgs\u001b[39m\u001b[38;5;124m'\u001b[39m\n\u001b[1;32m      6\u001b[0m hey_bagh_caltech_collect \u001b[38;5;241m=\u001b[39m Collection(name\u001b[38;5;241m=\u001b[39mcollection_name,\n\u001b[0;32m----> 7\u001b[0m                         schema\u001b[38;5;241m=\u001b[39mschema,\n\u001b[1;32m      8\u001b[0m                         shards_num\u001b[38;5;241m=\u001b[39m\u001b[38;5;241m2\u001b[39m,)\n",
      "\u001b[0;31mNameError\u001b[0m: name 'schema' is not defined"
     ]
    }
   ],
   "source": [
    "from pymilvus import Collection\n",
    "\n",
    "# Create collection\n",
    "collection_name = 'heybagh_caltech101_imgs'\n",
    "\n",
    "hey_bagh_caltech_collect = Collection(name=collection_name,\n",
    "                        schema=schema,\n",
    "                        shards_num=2,)"
   ]
  },
  {
   "cell_type": "code",
   "execution_count": 70,
   "metadata": {},
   "outputs": [
    {
     "name": "stdout",
     "output_type": "stream",
     "text": [
      "Check if collection exists:  True\n",
      "{'auto_id': True, 'description': 'heybagh image search', 'fields': [{'name': 'img_id', 'description': 'assigned Image ID', 'type': <DataType.INT64: 5>, 'is_primary': True, 'auto_id': True}, {'name': 'img_cls_name', 'description': 'Class-Name of the Image it belongs to', 'type': <DataType.VARCHAR: 21>, 'params': {'max_length': 80}}, {'name': 'img_rel_path', 'description': 'Relative path of the Image', 'type': <DataType.VARCHAR: 21>, 'params': {'max_length': 1000}}, {'name': 'img_embeddings', 'description': 'Extracted embeddings of Image', 'type': <DataType.FLOAT_VECTOR: 101>, 'params': {'dim': 1000}}], 'enable_dynamic_field': True}\n",
      "[]\n"
     ]
    }
   ],
   "source": [
    "from pymilvus import utility\n",
    "print(\"Check if collection exists: \", utility.has_collection(collection_name))\n",
    "\n",
    "# collection = Collection(collection_name)\n",
    "\n",
    "print(hey_bagh_caltech_collect.schema)\n",
    "\n",
    "print(hey_bagh_caltech_collect.indexes)"
   ]
  },
  {
   "cell_type": "code",
   "execution_count": 71,
   "metadata": {},
   "outputs": [],
   "source": [
    "### Prepare Data for insert into collection"
   ]
  },
  {
   "cell_type": "code",
   "execution_count": 39,
   "metadata": {},
   "outputs": [],
   "source": [
    "# Insert data into collection to create index\n",
    "root_path_to_caltech_101_dataset = \"/datasets/caltech-101/101_ObjectCategories\"\n",
    "\n",
    "import os\n",
    "from tqdm import tqdm\n",
    "\n",
    "def traverse_directories(root_dir):\n",
    "    \"\"\"Traverses all directories under the given root directory and yields file and subdirectory information.\"\"\"\n",
    "    # NOTE : Returning relative_path, subdirectory_name, filename ---> use this with \"root_path\" to get full_path to the image\n",
    "    for dirpath, dirnames, filenames in os.walk(root_dir):\n",
    "        for filename in filenames:\n",
    "            file_path = os.path.join(dirpath, filename)\n",
    "            relative_path = os.path.relpath(file_path, root_dir)  # Calculate relative path\n",
    "            # print(relative_path)\n",
    "            yield filename, relative_path, os.path.basename(dirpath)  # Yield filename, full path, subdirectory name\n",
    "\n"
   ]
  },
  {
   "cell_type": "code",
   "execution_count": null,
   "metadata": {},
   "outputs": [],
   "source": [
    "# Prepare a data for collection\n",
    "import pandas as pd\n",
    "\n",
    "\n",
    "\n",
    "entity_img_cls_name = []\n",
    "entity_img_rel_path     = []\n",
    "entity_img_embedding = []\n",
    "\n",
    "for filename, rel_path,subdir_name in traverse_directories(root_path_to_caltech_101_dataset):\n",
    "    entity_img_cls_name.append(subdir_name)\n",
    "    entity_img_rel_path.append(rel_path)\n",
    "    full_path_img = root_path_to_caltech_101_dataset + '/' + rel_path\n",
    "    entity_img_embedding.append(extractor.preprocess_extract_feature(full_path_img))\n",
    "\n",
    "df =  pd.DataFrame({\"img_cls_name\": entity_img_cls_name,\n",
    "                   \"img_rel_path\": entity_img_rel_path,\n",
    "                   \"img_embeddings\": entity_img_embedding\n",
    "                   })\n"
   ]
  },
  {
   "cell_type": "code",
   "execution_count": 72,
   "metadata": {},
   "outputs": [
    {
     "data": {
      "text/plain": [
       "(insert count: 8676, delete count: 0, upsert count: 0, timestamp: 448239057656086531, success count: 8676, err count: 0)"
      ]
     },
     "execution_count": 72,
     "metadata": {},
     "output_type": "execute_result"
    }
   ],
   "source": [
    "entities = [df[\"img_cls_name\"].to_list(), \n",
    "            df[\"img_rel_path\"].to_list(), \n",
    "            df[\"img_embeddings\"].to_list()]\n",
    "\n",
    "hey_bagh_caltech_collect.insert(entities)"
   ]
  },
  {
   "cell_type": "code",
   "execution_count": 73,
   "metadata": {},
   "outputs": [],
   "source": [
    "hey_bagh_caltech_collect.flush()"
   ]
  },
  {
   "cell_type": "markdown",
   "metadata": {},
   "source": [
    "### Collection info"
   ]
  },
  {
   "cell_type": "code",
   "execution_count": 8,
   "metadata": {},
   "outputs": [
    {
     "data": {
      "text/plain": [
       "['heybagh_caltech101_imgs']"
      ]
     },
     "execution_count": 8,
     "metadata": {},
     "output_type": "execute_result"
    }
   ],
   "source": [
    "from pymilvus import utility\n",
    "\n",
    "utility.list_collections()"
   ]
  },
  {
   "cell_type": "code",
   "execution_count": 75,
   "metadata": {},
   "outputs": [
    {
     "name": "stdout",
     "output_type": "stream",
     "text": [
      "{'auto_id': True, 'description': 'heybagh image search', 'fields': [{'name': 'img_id', 'description': 'assigned Image ID', 'type': <DataType.INT64: 5>, 'is_primary': True, 'auto_id': True}, {'name': 'img_cls_name', 'description': 'Class-Name of the Image it belongs to', 'type': <DataType.VARCHAR: 21>, 'params': {'max_length': 80}}, {'name': 'img_rel_path', 'description': 'Relative path of the Image', 'type': <DataType.VARCHAR: 21>, 'params': {'max_length': 1000}}, {'name': 'img_embeddings', 'description': 'Extracted embeddings of Image', 'type': <DataType.FLOAT_VECTOR: 101>, 'params': {'dim': 1000}}], 'enable_dynamic_field': True}\n",
      "heybagh image search\n",
      "heybagh_caltech101_imgs\n",
      "False\n",
      "8676\n",
      "{'name': 'img_id', 'description': 'assigned Image ID', 'type': <DataType.INT64: 5>, 'is_primary': True, 'auto_id': True}\n",
      "[{\"name\":\"_default\",\"collection_name\":\"heybagh_caltech101_imgs\",\"description\":\"\"}]\n",
      "[]\n"
     ]
    }
   ],
   "source": [
    "from pymilvus import Collection\n",
    "collection = Collection(\"heybagh_caltech101_imgs\")  # Get an existing collection.\n",
    "\n",
    "print(collection.schema)                # Return the schema.CollectionSchema of the collection.\n",
    "print(collection.description)           # Return the description of the collection.\n",
    "print(collection.name)                  # Return the name of the collection.\n",
    "print(collection.is_empty)              # Return the boolean value that indicates if the collection is empty.\n",
    "print(collection.num_entities)          # Return the number of entities in the collection.\n",
    "print(collection.primary_field)         # Return the schema.FieldSchema of the primary key field.\n",
    "print(collection.partitions)            # Return the list[Partition] object.\n",
    "print(collection.indexes)               # Return the list[Index] object.\n",
    "# print(collection.properties)\t\t# Return the expiration time of data in the collection.\n"
   ]
  },
  {
   "cell_type": "markdown",
   "metadata": {},
   "source": [
    "### Update collection with relative paths"
   ]
  },
  {
   "cell_type": "markdown",
   "metadata": {},
   "source": [
    "### Creating Index"
   ]
  },
  {
   "cell_type": "code",
   "execution_count": 76,
   "metadata": {},
   "outputs": [],
   "source": [
    "# index parameters\n",
    "\n",
    "index = {\n",
    "    \"index_type\": \"IVF_FLAT\",\n",
    "    \"metric_type\": \"COSINE\",\n",
    "    \"params\": {\"nlist\": 512},\n",
    "}   "
   ]
  },
  {
   "cell_type": "code",
   "execution_count": 22,
   "metadata": {},
   "outputs": [],
   "source": [
    "# hey_bagh_caltech_collect.drop_index()"
   ]
  },
  {
   "cell_type": "code",
   "execution_count": 77,
   "metadata": {},
   "outputs": [
    {
     "data": {
      "text/plain": [
       "Status(code=0, message=)"
      ]
     },
     "execution_count": 77,
     "metadata": {},
     "output_type": "execute_result"
    }
   ],
   "source": [
    "hey_bagh_caltech_collect.create_index(field_name='img_embeddings', index_params=index)"
   ]
  },
  {
   "cell_type": "code",
   "execution_count": 78,
   "metadata": {},
   "outputs": [
    {
     "data": {
      "text/plain": [
       "{'total_rows': 8676, 'indexed_rows': 8676, 'pending_index_rows': 0}"
      ]
     },
     "execution_count": 78,
     "metadata": {},
     "output_type": "execute_result"
    }
   ],
   "source": [
    "utility.index_building_progress(collection_name=collection_name)"
   ]
  },
  {
   "cell_type": "code",
   "execution_count": 79,
   "metadata": {},
   "outputs": [
    {
     "data": {
      "text/plain": [
       "8676"
      ]
     },
     "execution_count": 79,
     "metadata": {},
     "output_type": "execute_result"
    }
   ],
   "source": [
    "hey_bagh_caltech_collect.num_entities"
   ]
  },
  {
   "cell_type": "markdown",
   "metadata": {},
   "source": [
    "### Do Vector Search"
   ]
  },
  {
   "cell_type": "code",
   "execution_count": 11,
   "metadata": {},
   "outputs": [],
   "source": [
    "hey_bagh_caltech_collect = Collection(name=\"heybagh_caltech101_imgs\")\n",
    "hey_bagh_caltech_collect.load()"
   ]
  },
  {
   "cell_type": "code",
   "execution_count": 12,
   "metadata": {},
   "outputs": [
    {
     "name": "stdout",
     "output_type": "stream",
     "text": [
      "Start searching based on vector similarity\n",
      "hit: id: 448237751945690752, distance: 0.9999998211860657, entity: {'img_rel_path': 'brontosaurus/image_0006.jpg', 'img_cls_name': 'brontosaurus'}, Class Name: brontosaurus\n",
      "hit: id: 448237751945690742, distance: 0.8235660195350647, entity: {'img_rel_path': 'brontosaurus/image_0007.jpg', 'img_cls_name': 'brontosaurus'}, Class Name: brontosaurus\n",
      "hit: id: 448237751945686664, distance: 0.7548072934150696, entity: {'img_rel_path': 'stegosaurus/image_0027.jpg', 'img_cls_name': 'stegosaurus'}, Class Name: stegosaurus\n",
      "hit: id: 448237751945685572, distance: 0.7245089411735535, entity: {'img_rel_path': 'kangaroo/image_0034.jpg', 'img_cls_name': 'kangaroo'}, Class Name: kangaroo\n",
      "hit: id: 448237751945692433, distance: 0.7190746665000916, entity: {'img_rel_path': 'elephant/image_0050.jpg', 'img_cls_name': 'elephant'}, Class Name: elephant\n",
      "hit: id: 448237751945692479, distance: 0.7045187950134277, entity: {'img_rel_path': 'elephant/image_0047.jpg', 'img_cls_name': 'elephant'}, Class Name: elephant\n",
      "hit: id: 448237751945692735, distance: 0.6865711808204651, entity: {'img_rel_path': 'rhino/image_0025.jpg', 'img_cls_name': 'rhino'}, Class Name: rhino\n",
      "hit: id: 448237751945692468, distance: 0.6512100696563721, entity: {'img_rel_path': 'elephant/image_0060.jpg', 'img_cls_name': 'elephant'}, Class Name: elephant\n",
      "hit: id: 448237751945692431, distance: 0.6493829488754272, entity: {'img_rel_path': 'elephant/image_0029.jpg', 'img_cls_name': 'elephant'}, Class Name: elephant\n",
      "hit: id: 448237751945692749, distance: 0.6488088369369507, entity: {'img_rel_path': 'rhino/image_0003.jpg', 'img_cls_name': 'rhino'}, Class Name: rhino\n",
      "Time to search 0.004260540008544922\n"
     ]
    }
   ],
   "source": [
    "import time\n",
    "# search based on vector similarity\n",
    "print(\"Start searching based on vector similarity\")\n",
    "\n",
    "# input image path\n",
    "image_path = \"/caltech-101/101_ObjectCategories/brontosaurus/image_0006.jpg\"\n",
    "\n",
    "# get embeddings of the image\n",
    "img_vector_to_search = [extractor.preprocess_extract_feature(image_path).tolist()]\n",
    "\n",
    "# set search parameters\n",
    "search_params = {\n",
    "    \"metric_type\": \"COSINE\",\n",
    "    \"params\": {\"nprobe\": 8},\n",
    "}\n",
    "\n",
    "# Search\n",
    "start_time = time.time()\n",
    "result = hey_bagh_caltech_collect.search(img_vector_to_search, \"img_embeddings\", search_params, limit=10, output_fields=[\"img_cls_name\", \"img_rel_path\"])\n",
    "end_time = time.time()\n",
    "\n",
    "for hits in result:\n",
    "    for hit in hits:\n",
    "        print(f\"hit: {hit}, Class Name: {hit.entity.get('img_cls_name')}\")\n",
    "        # print(hit.entity.get(''))\n",
    "print(\"Time to search\", end_time - start_time)\n"
   ]
  },
  {
   "cell_type": "code",
   "execution_count": 21,
   "metadata": {},
   "outputs": [
    {
     "name": "stdout",
     "output_type": "stream",
     "text": [
      "brontosaurus/image_0006.jpg\n",
      "brontosaurus/image_0007.jpg\n",
      "stegosaurus/image_0027.jpg\n",
      "kangaroo/image_0034.jpg\n",
      "elephant/image_0050.jpg\n",
      "elephant/image_0047.jpg\n",
      "rhino/image_0025.jpg\n",
      "elephant/image_0060.jpg\n",
      "elephant/image_0029.jpg\n",
      "rhino/image_0003.jpg\n"
     ]
    }
   ],
   "source": [
    "for ele in result:\n",
    "    for e in ele:\n",
    "        print(e.entity.get('img_rel_path'))"
   ]
  },
  {
   "cell_type": "code",
   "execution_count": 85,
   "metadata": {},
   "outputs": [
    {
     "name": "stdout",
     "output_type": "stream",
     "text": [
      "Start hybrid searching with img_cls_name == buddha\n",
      "hit: id: 448237751945690752, distance: 0.9999998211860657, entity: {'img_cls_name': 'brontosaurus'}| Class Name: brontosaurus\n",
      "hit: id: 448237751945690742, distance: 0.8235660195350647, entity: {'img_cls_name': 'brontosaurus'}| Class Name: brontosaurus\n",
      "hit: id: 448237751945690769, distance: 0.6470790505409241, entity: {'img_cls_name': 'brontosaurus'}| Class Name: brontosaurus\n",
      "hit: id: 448237751945690747, distance: 0.6464439034461975, entity: {'img_cls_name': 'brontosaurus'}| Class Name: brontosaurus\n",
      "hit: id: 448237751945690748, distance: 0.6416621208190918, entity: {'img_cls_name': 'brontosaurus'}| Class Name: brontosaurus\n",
      "hit: id: 448237751945690739, distance: 0.6411221623420715, entity: {'img_cls_name': 'brontosaurus'}| Class Name: brontosaurus\n",
      "hit: id: 448237751945690771, distance: 0.6107290983200073, entity: {'img_cls_name': 'brontosaurus'}| Class Name: brontosaurus\n",
      "hit: id: 448237751945690746, distance: 0.6102967262268066, entity: {'img_cls_name': 'brontosaurus'}| Class Name: brontosaurus\n",
      "hit: id: 448237751945690773, distance: 0.5934948325157166, entity: {'img_cls_name': 'brontosaurus'}| Class Name: brontosaurus\n",
      "hit: id: 448237751945690743, distance: 0.5916187167167664, entity: {'img_cls_name': 'brontosaurus'}| Class Name: brontosaurus\n",
      "Time to search 0.015531301498413086\n"
     ]
    }
   ],
   "source": [
    "# hybrid search\n",
    "print(\"Start hybrid searching with img_cls_name == buddha\")\n",
    "\n",
    "start_time = time.time()\n",
    "result = hey_bagh_caltech_collect.search(img_vector_to_search, \"img_embeddings\", search_params, limit=10, expr=\"img_cls_name LIKE 'brontosaurus' \", output_fields=[\"img_cls_name\"])\n",
    "end_time = time.time()\n",
    "\n",
    "for hits in result:\n",
    "    for hit in hits:\n",
    "        print(f\"hit: {hit}| Class Name: {hit.entity.get('img_cls_name')}\")\n",
    "print(\"Time to search\", end_time - start_time)"
   ]
  },
  {
   "cell_type": "code",
   "execution_count": null,
   "metadata": {},
   "outputs": [],
   "source": []
  }
 ],
 "metadata": {
  "kernelspec": {
   "display_name": "base",
   "language": "python",
   "name": "python3"
  },
  "language_info": {
   "codemirror_mode": {
    "name": "ipython",
    "version": 3
   },
   "file_extension": ".py",
   "mimetype": "text/x-python",
   "name": "python",
   "nbconvert_exporter": "python",
   "pygments_lexer": "ipython3",
   "version": "3.10.4"
  }
 },
 "nbformat": 4,
 "nbformat_minor": 2
}
